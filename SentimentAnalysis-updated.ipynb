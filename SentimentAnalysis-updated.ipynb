{
 "cells": [
  {
   "cell_type": "markdown",
   "id": "f1d816cf-24f6-413a-bbab-a841acb1f41f",
   "metadata": {},
   "source": [
    "# Sentiment Analysis of Movie Reviews using Machine Learning Models with binary classification\n",
    "\n",
    "This project aims to perform sentiment analysis on a dataset of movie reviews. The goal is to classify each review as positive or negative. We will use several machine learning models, including Logistic Regression (LR), Support Vector Machine (SVM), and Naive Bayes (NB), to build classification models. The dataset consists of movie reviews labeled with binary sentiment (positive = 1, negative = 0).\n",
    "![](image.png)\n",
    "We will process the dataset, vectorize the text data, train the models, evaluate their performance, and finally deploy them for future predictions.\n"
   ]
  },
  {
   "cell_type": "markdown",
   "id": "dec242bc-2489-45c8-b067-e583672bd8b7",
   "metadata": {},
   "source": [
    "# Importing the necessary libraries for data analysis and machine learning\n",
    "\n",
    "In this section, we import the required libraries for data processing, feature extraction, model training, and evaluation. We will use `pandas` for data manipulation, `scikit-learn` for machine learning models, and `matplotlib` for visualization.\n"
   ]
  },
  {
   "cell_type": "code",
   "execution_count": 3,
   "id": "dd801172-39bd-40a3-909c-2fd74e73ab69",
   "metadata": {},
   "outputs": [],
   "source": [
    "import pandas as pd\n",
    "from sklearn.feature_extraction.text import CountVectorizer\n",
    "from sklearn.model_selection import train_test_split\n",
    "from sklearn.linear_model import LogisticRegression\n",
    "from sklearn.svm import LinearSVC\n",
    "from sklearn.naive_bayes import MultinomialNB\n",
    "from sklearn.metrics import classification_report, accuracy_score, confusion_matrix, ConfusionMatrixDisplay\n",
    "import matplotlib.pyplot as plt"
   ]
  },
  {
   "cell_type": "markdown",
   "id": "3137f2de-2bf8-4b80-b0f3-f09418cec52d",
   "metadata": {},
   "source": [
    "# Loading the Dataset\n",
    "\n",
    "Here we load the dataset of movie reviews. The dataset contains two columns: `Text` (the review) and `Sentiment` (the sentiment label, where 0 represents a negative review and 1 represents a positive review). We will inspect the data to check for any issues such as missing values or duplicates.\n"
   ]
  },
  {
   "cell_type": "code",
   "execution_count": 5,
   "id": "c828cc3c-53d3-47c1-9f2e-476c676b1e9b",
   "metadata": {},
   "outputs": [
    {
     "data": {
      "text/html": [
       "<div>\n",
       "<style scoped>\n",
       "    .dataframe tbody tr th:only-of-type {\n",
       "        vertical-align: middle;\n",
       "    }\n",
       "\n",
       "    .dataframe tbody tr th {\n",
       "        vertical-align: top;\n",
       "    }\n",
       "\n",
       "    .dataframe thead th {\n",
       "        text-align: right;\n",
       "    }\n",
       "</style>\n",
       "<table border=\"1\" class=\"dataframe\">\n",
       "  <thead>\n",
       "    <tr style=\"text-align: right;\">\n",
       "      <th></th>\n",
       "      <th>Text</th>\n",
       "      <th>Sentiment</th>\n",
       "    </tr>\n",
       "  </thead>\n",
       "  <tbody>\n",
       "    <tr>\n",
       "      <th>0</th>\n",
       "      <td>Once again Mr. Costner has dragged out a movie...</td>\n",
       "      <td>0</td>\n",
       "    </tr>\n",
       "    <tr>\n",
       "      <th>1</th>\n",
       "      <td>This is an example of why the majority of acti...</td>\n",
       "      <td>0</td>\n",
       "    </tr>\n",
       "    <tr>\n",
       "      <th>2</th>\n",
       "      <td>First of all I hate those moronic rappers, who...</td>\n",
       "      <td>0</td>\n",
       "    </tr>\n",
       "    <tr>\n",
       "      <th>3</th>\n",
       "      <td>Not even the Beatles could write songs everyon...</td>\n",
       "      <td>0</td>\n",
       "    </tr>\n",
       "    <tr>\n",
       "      <th>4</th>\n",
       "      <td>Brass pictures (movies is not a fitting word f...</td>\n",
       "      <td>0</td>\n",
       "    </tr>\n",
       "    <tr>\n",
       "      <th>5</th>\n",
       "      <td>A funny thing happened to me while watching \"M...</td>\n",
       "      <td>0</td>\n",
       "    </tr>\n",
       "    <tr>\n",
       "      <th>6</th>\n",
       "      <td>This German horror film has to be one of the w...</td>\n",
       "      <td>0</td>\n",
       "    </tr>\n",
       "    <tr>\n",
       "      <th>7</th>\n",
       "      <td>Being a long-time fan of Japanese film, I expe...</td>\n",
       "      <td>0</td>\n",
       "    </tr>\n",
       "    <tr>\n",
       "      <th>8</th>\n",
       "      <td>\"Tokyo Eyes\" tells of a 17 year old Japanese g...</td>\n",
       "      <td>0</td>\n",
       "    </tr>\n",
       "    <tr>\n",
       "      <th>9</th>\n",
       "      <td>Wealthy horse ranchers in Buenos Aires have a ...</td>\n",
       "      <td>0</td>\n",
       "    </tr>\n",
       "  </tbody>\n",
       "</table>\n",
       "</div>"
      ],
      "text/plain": [
       "                                                Text  Sentiment\n",
       "0  Once again Mr. Costner has dragged out a movie...          0\n",
       "1  This is an example of why the majority of acti...          0\n",
       "2  First of all I hate those moronic rappers, who...          0\n",
       "3  Not even the Beatles could write songs everyon...          0\n",
       "4  Brass pictures (movies is not a fitting word f...          0\n",
       "5  A funny thing happened to me while watching \"M...          0\n",
       "6  This German horror film has to be one of the w...          0\n",
       "7  Being a long-time fan of Japanese film, I expe...          0\n",
       "8  \"Tokyo Eyes\" tells of a 17 year old Japanese g...          0\n",
       "9  Wealthy horse ranchers in Buenos Aires have a ...          0"
      ]
     },
     "execution_count": 5,
     "metadata": {},
     "output_type": "execute_result"
    }
   ],
   "source": [
    "# Load the dataset\n",
    "df = pd.read_csv('reviews.csv', encoding=\"ISO-8859-1\")\n",
    "df.head(10)"
   ]
  },
  {
   "cell_type": "code",
   "execution_count": 6,
   "id": "cce6c27f-6513-43bd-93c4-27820a00e912",
   "metadata": {},
   "outputs": [
    {
     "name": "stdout",
     "output_type": "stream",
     "text": [
      "<class 'pandas.core.frame.DataFrame'>\n",
      "RangeIndex: 50000 entries, 0 to 49999\n",
      "Data columns (total 2 columns):\n",
      " #   Column     Non-Null Count  Dtype \n",
      "---  ------     --------------  ----- \n",
      " 0   Text       50000 non-null  object\n",
      " 1   Sentiment  50000 non-null  int64 \n",
      "dtypes: int64(1), object(1)\n",
      "memory usage: 781.4+ KB\n"
     ]
    }
   ],
   "source": [
    "df.info()"
   ]
  },
  {
   "cell_type": "code",
   "execution_count": 7,
   "id": "9ec31bde-cd9c-4348-89f8-f23fb7122941",
   "metadata": {},
   "outputs": [
    {
     "data": {
      "text/html": [
       "<div>\n",
       "<style scoped>\n",
       "    .dataframe tbody tr th:only-of-type {\n",
       "        vertical-align: middle;\n",
       "    }\n",
       "\n",
       "    .dataframe tbody tr th {\n",
       "        vertical-align: top;\n",
       "    }\n",
       "\n",
       "    .dataframe thead tr th {\n",
       "        text-align: left;\n",
       "    }\n",
       "\n",
       "    .dataframe thead tr:last-of-type th {\n",
       "        text-align: right;\n",
       "    }\n",
       "</style>\n",
       "<table border=\"1\" class=\"dataframe\">\n",
       "  <thead>\n",
       "    <tr>\n",
       "      <th></th>\n",
       "      <th colspan=\"4\" halign=\"left\">Text</th>\n",
       "    </tr>\n",
       "    <tr>\n",
       "      <th></th>\n",
       "      <th>count</th>\n",
       "      <th>unique</th>\n",
       "      <th>top</th>\n",
       "      <th>freq</th>\n",
       "    </tr>\n",
       "    <tr>\n",
       "      <th>Sentiment</th>\n",
       "      <th></th>\n",
       "      <th></th>\n",
       "      <th></th>\n",
       "      <th></th>\n",
       "    </tr>\n",
       "  </thead>\n",
       "  <tbody>\n",
       "    <tr>\n",
       "      <th>0</th>\n",
       "      <td>25000</td>\n",
       "      <td>24697</td>\n",
       "      <td>When i got this movie free from my job, along ...</td>\n",
       "      <td>3</td>\n",
       "    </tr>\n",
       "    <tr>\n",
       "      <th>1</th>\n",
       "      <td>25000</td>\n",
       "      <td>24884</td>\n",
       "      <td>Loved today's show!!! It was a variety and not...</td>\n",
       "      <td>5</td>\n",
       "    </tr>\n",
       "  </tbody>\n",
       "</table>\n",
       "</div>"
      ],
      "text/plain": [
       "            Text                                                            \\\n",
       "           count unique                                                top   \n",
       "Sentiment                                                                    \n",
       "0          25000  24697  When i got this movie free from my job, along ...   \n",
       "1          25000  24884  Loved today's show!!! It was a variety and not...   \n",
       "\n",
       "                \n",
       "          freq  \n",
       "Sentiment       \n",
       "0            3  \n",
       "1            5  "
      ]
     },
     "execution_count": 7,
     "metadata": {},
     "output_type": "execute_result"
    }
   ],
   "source": [
    "df.groupby('Sentiment').describe()"
   ]
  },
  {
   "cell_type": "markdown",
   "id": "9f2e7481-8a32-4a11-91f3-0fcc818c3711",
   "metadata": {},
   "source": [
    "# Data Preprocessing\n",
    "\n",
    "Before training the models, we need to preprocess the data. This includes removing duplicate reviews and ensuring that there are no missing values. We will also check the class distribution (positive vs. negative reviews) and clean the text data for feature extraction.\n"
   ]
  },
  {
   "cell_type": "code",
   "execution_count": 9,
   "id": "59907792-69d1-4fa5-9cb7-c219bd59f76c",
   "metadata": {},
   "outputs": [
    {
     "data": {
      "text/html": [
       "<div>\n",
       "<style scoped>\n",
       "    .dataframe tbody tr th:only-of-type {\n",
       "        vertical-align: middle;\n",
       "    }\n",
       "\n",
       "    .dataframe tbody tr th {\n",
       "        vertical-align: top;\n",
       "    }\n",
       "\n",
       "    .dataframe thead tr th {\n",
       "        text-align: left;\n",
       "    }\n",
       "\n",
       "    .dataframe thead tr:last-of-type th {\n",
       "        text-align: right;\n",
       "    }\n",
       "</style>\n",
       "<table border=\"1\" class=\"dataframe\">\n",
       "  <thead>\n",
       "    <tr>\n",
       "      <th></th>\n",
       "      <th colspan=\"4\" halign=\"left\">Text</th>\n",
       "    </tr>\n",
       "    <tr>\n",
       "      <th></th>\n",
       "      <th>count</th>\n",
       "      <th>unique</th>\n",
       "      <th>top</th>\n",
       "      <th>freq</th>\n",
       "    </tr>\n",
       "    <tr>\n",
       "      <th>Sentiment</th>\n",
       "      <th></th>\n",
       "      <th></th>\n",
       "      <th></th>\n",
       "      <th></th>\n",
       "    </tr>\n",
       "  </thead>\n",
       "  <tbody>\n",
       "    <tr>\n",
       "      <th>0</th>\n",
       "      <td>24697</td>\n",
       "      <td>24697</td>\n",
       "      <td>Once again Mr. Costner has dragged out a movie...</td>\n",
       "      <td>1</td>\n",
       "    </tr>\n",
       "    <tr>\n",
       "      <th>1</th>\n",
       "      <td>24884</td>\n",
       "      <td>24884</td>\n",
       "      <td>I went and saw this movie last night after bei...</td>\n",
       "      <td>1</td>\n",
       "    </tr>\n",
       "  </tbody>\n",
       "</table>\n",
       "</div>"
      ],
      "text/plain": [
       "            Text                                                            \\\n",
       "           count unique                                                top   \n",
       "Sentiment                                                                    \n",
       "0          24697  24697  Once again Mr. Costner has dragged out a movie...   \n",
       "1          24884  24884  I went and saw this movie last night after bei...   \n",
       "\n",
       "                \n",
       "          freq  \n",
       "Sentiment       \n",
       "0            1  \n",
       "1            1  "
      ]
     },
     "execution_count": 9,
     "metadata": {},
     "output_type": "execute_result"
    }
   ],
   "source": [
    "df = df.drop_duplicates()\n",
    "df.groupby('Sentiment').describe()"
   ]
  },
  {
   "cell_type": "markdown",
   "id": "6b123593-e8e9-43a0-aca1-b293c10397fa",
   "metadata": {},
   "source": [
    "# Text Vectorization with CountVectorizer\n",
    "\n",
    "Machine learning models cannot directly work with raw text. Therefore, we need to convert the text data into numerical features. We will use `CountVectorizer` to convert the reviews into word frequency vectors. Additionally, we will remove stopwords and apply the `min_df=20` parameter to ignore words that appear less than 20 times in the corpus.\n"
   ]
  },
  {
   "cell_type": "code",
   "execution_count": 11,
   "id": "9408188b-e7f9-4358-8d72-e9f282588734",
   "metadata": {},
   "outputs": [],
   "source": [
    "# Prepare text data\n",
    "vectorizer = CountVectorizer(ngram_range=(1, 2), stop_words='english', min_df=20)\n",
    "x = vectorizer.fit_transform(df['Text'])\n",
    "y = df['Sentiment']\n"
   ]
  },
  {
   "cell_type": "markdown",
   "id": "b4c20f83-29a4-4ebb-a003-31a41bc08893",
   "metadata": {},
   "source": [
    "# Splitting the Data into Training and Test Sets\n",
    "\n",
    "We will now split the dataset into training and testing sets. We will use 80% of the data for training and 20% for testing. This split allows us to train the models on one subset and evaluate their performance on another.\n"
   ]
  },
  {
   "cell_type": "code",
   "execution_count": 13,
   "id": "8fdbdee5-9d46-4d4f-8a00-a28cf33c9d82",
   "metadata": {},
   "outputs": [],
   "source": [
    "# Split data into training and testing sets (80/20 split)\n",
    "x_train, x_test, y_train, y_test = train_test_split(x, y, test_size=0.2, random_state=0)"
   ]
  },
  {
   "cell_type": "markdown",
   "id": "c8a6d89c-e72d-4f8d-879a-cd054369c61b",
   "metadata": {},
   "source": [
    "# Model Training\n",
    "\n",
    "We will train three different models: Logistic Regression (LR), Support Vector Machine (SVM), and Naive Bayes (NB). Each model will be trained using the training data (`X_train` and `y_train`) and evaluated later based on their performance.\n"
   ]
  },
  {
   "cell_type": "markdown",
   "id": "787bb7af-56c1-4fa4-8208-eedeb0019683",
   "metadata": {},
   "source": [
    "# Model Evaluation\n",
    "\n",
    "We will evaluate the performance of the trained models using several metrics:\n",
    "- **Accuracy**: The overall correctness of the model.\n",
    "- **Precision**: The percentage of true positive predictions among all positive predictions.\n",
    "- **Recall**: The percentage of true positive predictions among all actual positives.\n",
    "- **F1-Score**: The harmonic mean of precision and recall.\n",
    "- **AUC-ROC**: The Area Under the Receiver Operating Characteristic Curve.\n",
    "\n",
    "These metrics will help us understand how well each model performs.\n"
   ]
  },
  {
   "cell_type": "code",
   "execution_count": 16,
   "id": "8398e069-85fb-45c7-bfa3-e796e449781c",
   "metadata": {},
   "outputs": [
    {
     "data": {
      "image/png": "[encoded data removed]",
      "text/plain": [
       "<Figure size 640x480 with 2 Axes>"
      ]
     },
     "metadata": {},
     "output_type": "display_data"
    },
    {
     "name": "stdout",
     "output_type": "stream",
     "text": [
      "\n",
      "Model: Logistic Regression\n",
      "Accuracy: 0.8803065443178381\n",
      "Classification Report:\n",
      "              precision    recall  f1-score   support\n",
      "\n",
      "    Negative       0.88      0.88      0.88      4967\n",
      "    Positive       0.88      0.88      0.88      4950\n",
      "\n",
      "    accuracy                           0.88      9917\n",
      "   macro avg       0.88      0.88      0.88      9917\n",
      "weighted avg       0.88      0.88      0.88      9917\n",
      "\n"
     ]
    },
    {
     "data": {
      "image/png": "[encoded data removed]",
      "text/plain": [
       "<Figure size 640x480 with 2 Axes>"
      ]
     },
     "metadata": {},
     "output_type": "display_data"
    },
    {
     "name": "stdout",
     "output_type": "stream",
     "text": [
      "\n",
      "Model: SGD (Linear SVM)\n",
      "Accuracy: 0.86407179590602\n",
      "Classification Report:\n",
      "              precision    recall  f1-score   support\n",
      "\n",
      "    Negative       0.86      0.86      0.86      4967\n",
      "    Positive       0.86      0.86      0.86      4950\n",
      "\n",
      "    accuracy                           0.86      9917\n",
      "   macro avg       0.86      0.86      0.86      9917\n",
      "weighted avg       0.86      0.86      0.86      9917\n",
      "\n"
     ]
    },
    {
     "data": {
      "image/png": "[encoded data removed]",
      "text/plain": [
       "<Figure size 640x480 with 2 Axes>"
      ]
     },
     "metadata": {},
     "output_type": "display_data"
    },
    {
     "name": "stdout",
     "output_type": "stream",
     "text": [
      "\n",
      "Model: Multinomial Naive Bayes\n",
      "Accuracy: 0.8614500352929313\n",
      "Classification Report:\n",
      "              precision    recall  f1-score   support\n",
      "\n",
      "    Negative       0.86      0.86      0.86      4967\n",
      "    Positive       0.86      0.86      0.86      4950\n",
      "\n",
      "    accuracy                           0.86      9917\n",
      "   macro avg       0.86      0.86      0.86      9917\n",
      "weighted avg       0.86      0.86      0.86      9917\n",
      "\n"
     ]
    }
   ],
   "source": [
    "\n",
    "# Initialize models\n",
    "models = {\n",
    "    \"Logistic Regression\": LogisticRegression(max_iter=1000, random_state=0),\n",
    "    \"SGD (Linear SVM)\": LinearSVC(random_state=0),\n",
    "    \"Multinomial Naive Bayes\": MultinomialNB()\n",
    "}\n",
    "\n",
    "# Train and evaluate models\n",
    "results = {}\n",
    "\n",
    "for name, model in models.items():\n",
    "    # Train the model\n",
    "    model.fit(x_train, y_train)\n",
    "    \n",
    "    # Make predictions\n",
    "    y_pred = model.predict(x_test)\n",
    "    \n",
    "    # Calculate accuracy\n",
    "    accuracy = accuracy_score(y_test, y_pred)\n",
    "    \n",
    "    # Generate classification report (precision, recall, f1-score)\n",
    "    class_report = classification_report(y_test, y_pred, target_names=['Negative', 'Positive'])\n",
    "    \n",
    "    # Plot confusion matrix using ConfusionMatrixDisplay\n",
    "    cm = confusion_matrix(y_test, y_pred)\n",
    "    disp = ConfusionMatrixDisplay(confusion_matrix=cm, display_labels=['Negative', 'Positive'])\n",
    "    disp.plot(cmap='Blues', xticks_rotation='vertical')\n",
    "    plt.title(f\"Confusion Matrix - {name}\")\n",
    "    plt.show()\n",
    "\n",
    "    # Store results\n",
    "    results[name] = {\n",
    "        'Accuracy': accuracy,\n",
    "        'Classification Report': class_report\n",
    "    }\n",
    "    \n",
    "    # Print results for each model\n",
    "    print(f\"\\nModel: {name}\")\n",
    "    print(f\"Accuracy: {accuracy}\")\n",
    "    print(f\"Classification Report:\\n{class_report}\")"
   ]
  },
  {
   "cell_type": "markdown",
   "id": "2602d299-02bb-4773-9a01-e951b44747b5",
   "metadata": {},
   "source": [
    "\n"
   ]
  },
  {
   "cell_type": "code",
   "execution_count": 18,
   "id": "90bf0448-9aef-4730-8588-a2bf00682614",
   "metadata": {},
   "outputs": [
    {
     "name": "stdout",
     "output_type": "stream",
     "text": [
      "Sentiment score (Negative/Positive): 0.1533\n"
     ]
    }
   ],
   "source": [
    "# Example scoring a new review\n",
    "review = 'The long lines and poor customer service really turned me off.'\n",
    "vectorized_review = vectorizer.transform([review])\n",
    "print(f\"Sentiment score (Negative/Positive): {models['Logistic Regression'].predict_proba(vectorized_review)[0][1]:.4f}\")\n",
    "\n"
   ]
  },
  {
   "cell_type": "code",
   "execution_count": 19,
   "id": "193228fe-ea3e-49a0-9397-b8337cc2df35",
   "metadata": {},
   "outputs": [
    {
     "name": "stdout",
     "output_type": "stream",
     "text": [
      "Sentiment score (Negative/Positive): 0.7629\n"
     ]
    }
   ],
   "source": [
    "review = 'One of the more delightful experiences I have had!'\n",
    "vectorized_review = vectorizer.transform([review])\n",
    "print(f\"Sentiment score (Negative/Positive): {models['Logistic Regression'].predict_proba(vectorized_review)[0][1]:.4f}\")\n",
    "\n"
   ]
  },
  {
   "cell_type": "code",
   "execution_count": null,
   "id": "0bf98ec4-7b38-4985-8a93-dd9e123ef5c9",
   "metadata": {},
   "outputs": [],
   "source": []
  },
  {
   "cell_type": "code",
   "execution_count": 6,
   "id": "ec288958-1635-4b49-afd7-462c754e5d22",
   "metadata": {},
   "outputs": [
    {
     "name": "stdout",
     "output_type": "stream",
     "text": [
      "Epoch 1/5\n"
     ]
    },
    {
     "name": "stderr",
     "output_type": "stream",
     "text": [
      "C:\\Users\\win\\anaconda3\\Lib\\site-packages\\keras\\src\\layers\\core\\embedding.py:90: UserWarning: Argument `input_length` is deprecated. Just remove it.\n",
      "  warnings.warn(\n"
     ]
    },
    {
     "name": "stdout",
     "output_type": "stream",
     "text": [
      "\u001b[1m1000/1000\u001b[0m \u001b[32m━━━━━━━━━━━━━━━━━━━━\u001b[0m\u001b[37m\u001b[0m \u001b[1m55s\u001b[0m 51ms/step - accuracy: 0.6857 - loss: 0.5785 - val_accuracy: 0.7713 - val_loss: 0.4574\n",
      "Epoch 2/5\n",
      "\u001b[1m1000/1000\u001b[0m \u001b[32m━━━━━━━━━━━━━━━━━━━━\u001b[0m\u001b[37m\u001b[0m \u001b[1m50s\u001b[0m 50ms/step - accuracy: 0.7399 - loss: 0.5098 - val_accuracy: 0.8171 - val_loss: 0.4230\n",
      "Epoch 3/5\n",
      "\u001b[1m1000/1000\u001b[0m \u001b[32m━━━━━━━━━━━━━━━━━━━━\u001b[0m\u001b[37m\u001b[0m \u001b[1m52s\u001b[0m 52ms/step - accuracy: 0.8608 - loss: 0.3550 - val_accuracy: 0.8315 - val_loss: 0.3845\n",
      "Epoch 4/5\n",
      "\u001b[1m1000/1000\u001b[0m \u001b[32m━━━━━━━━━━━━━━━━━━━━\u001b[0m\u001b[37m\u001b[0m \u001b[1m53s\u001b[0m 52ms/step - accuracy: 0.8951 - loss: 0.2733 - val_accuracy: 0.8374 - val_loss: 0.3912\n",
      "Epoch 5/5\n",
      "\u001b[1m1000/1000\u001b[0m \u001b[32m━━━━━━━━━━━━━━━━━━━━\u001b[0m\u001b[37m\u001b[0m \u001b[1m52s\u001b[0m 52ms/step - accuracy: 0.9254 - loss: 0.2087 - val_accuracy: 0.8361 - val_loss: 0.4051\n"
     ]
    }
   ],
   "source": [
    "import pandas as pd\n",
    "from tensorflow.keras.preprocessing.text import Tokenizer\n",
    "from tensorflow.keras.preprocessing.sequence import pad_sequences\n",
    "from tensorflow.keras.models import Sequential\n",
    "from tensorflow.keras.layers import Embedding, LSTM, Dense, Dropout\n",
    "from sklearn.model_selection import train_test_split\n",
    "import numpy as np\n",
    "# Load the dataset\n",
    "df = pd.read_csv('reviews.csv', encoding=\"ISO-8859-1\")\n",
    "# Define maximum number of words to use and maximum sequence length\n",
    "max_words = 10000  # Vocabulary size\n",
    "max_len = 100      # Maximum length of a sequence\n",
    "# Tokenizing the text data\n",
    "tokenizer = Tokenizer(num_words=max_words, oov_token=\"<OOV>\")\n",
    "tokenizer.fit_on_texts(df['Text'])\n",
    "sequences = tokenizer.texts_to_sequences(df['Text'])\n",
    "padded_sequences = pad_sequences(sequences, maxlen=max_len, padding='post', truncating='post')\n",
    "# Splitting the data into training and testing sets\n",
    "X_train, X_test, y_train, y_test = train_test_split(padded_sequences, df['Sentiment'], test_size=0.2, random_state=42)\n",
    "# Build the Model\n",
    "model = Sequential([\n",
    "   Embedding(input_dim=max_words, output_dim=128, input_length=max_len),\n",
    "   LSTM(64, return_sequences=True),\n",
    "   Dropout(0.3),\n",
    "   LSTM(32),\n",
    "   Dense(32, activation='relu'),\n",
    "   Dropout(0.3),\n",
    "   Dense(1, activation='sigmoid')  # Output layer for binary classification\n",
    "])\n",
    "# Compile the model\n",
    "model.compile(optimizer='adam', loss='binary_crossentropy', metrics=['accuracy'])\n",
    "# Train the Model\n",
    "history = model.fit(X_train, y_train, validation_split=0.2, epochs=5, batch_size=32, verbose=1)\n",
    "# Evaluate the Model\n",
    "test_loss, test_acc = model.evaluate(X_test, y_test, verbose=0)\n"
   ]
  },
  {
   "cell_type": "markdown",
   "id": "d96c9797-2cfa-483b-8503-c367367a8a15",
   "metadata": {},
   "source": [
    "# Saving the Models for Future Predictions\n",
    "\n",
    "Once the models have been trained and evaluated, we will save them for future use. This allows us to load the models later and make predictions without retraining. We'll save both the models and the `CountVectorizer` vocabulary.\n"
   ]
  },
  {
   "cell_type": "code",
   "execution_count": 21,
   "id": "792c0a55-5069-42ac-92e5-00eceb408ade",
   "metadata": {},
   "outputs": [],
   "source": [
    "import pickle\n",
    "\n",
    "pickle.dump(model, open('sentiment.pkl', 'wb'))\n",
    "pickle.dump(vectorizer.vocabulary_, open('vocabulary.pkl', 'wb'))"
   ]
  },
  {
   "cell_type": "markdown",
   "id": "325077a4-9617-438a-a816-f11d8ba91eb9",
   "metadata": {},
   "source": [
    "# Conclusion\n",
    "\n",
    "In this project, we successfully built and evaluated three sentiment analysis models: Logistic Regression, Support Vector Machine, and Naive Bayes. Each model was evaluated based on various metrics such as accuracy, precision, recall, F1-score, and AUC-ROC. We also saved the models and the vectorizer for future predictions. \n",
    "\n",
    "In practice, these models can be used to predict the sentiment of new movie reviews. The saved models can be loaded for quick predictions without the need for retraining.\n"
   ]
  }
 ],
 "metadata": {
  "kernelspec": {
   "display_name": "Python 3 (ipykernel)",
   "language": "python",
   "name": "python3"
  },
  "language_info": {
   "codemirror_mode": {
    "name": "ipython",
    "version": 3
   },
   "file_extension": ".py",
   "mimetype": "text/x-python",
   "name": "python",
   "nbconvert_exporter": "python",
   "pygments_lexer": "ipython3",
   "version": "3.12.4"
  }
 },
 "nbformat": 4,
 "nbformat_minor": 5
}
